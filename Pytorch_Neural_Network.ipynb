{
 "cells": [
  {
   "cell_type": "markdown",
   "id": "eced3e4e",
   "metadata": {},
   "source": [
    "# Simple neural network on MNIST"
   ]
  },
  {
   "cell_type": "code",
   "execution_count": 1,
   "id": "10f4d78c",
   "metadata": {},
   "outputs": [],
   "source": [
    "import numpy as np\n",
    "import torch\n",
    "import matplotlib.pyplot as plt"
   ]
  },
  {
   "cell_type": "code",
   "execution_count": 2,
   "id": "be0bf158",
   "metadata": {},
   "outputs": [],
   "source": [
    "from torchvision import datasets, transforms\n",
    "import torch.nn.functional as F # utiliser des fct de torch.nn"
   ]
  },
  {
   "cell_type": "markdown",
   "id": "9d03763f",
   "metadata": {},
   "source": [
    "### Importer le dataset"
   ]
  },
  {
   "cell_type": "markdown",
   "id": "d15d0b42",
   "metadata": {},
   "source": [
    "- Transformer chaque image en tenseur et normalisé à l'aide la moyenne et de l'écart type\n",
    "- Définir le batch size utilisé chaque fois pour traverser l'ensemble du dataset"
   ]
  },
  {
   "cell_type": "markdown",
   "id": "61a23b6f",
   "metadata": {},
   "source": [
    "pytorch ne travaille directement avec les numpy et du coup les données doivent être tranformé en tensor."
   ]
  },
  {
   "cell_type": "code",
   "execution_count": 8,
   "id": "06d1a54d",
   "metadata": {},
   "outputs": [],
   "source": [
    "# image de 28 par 28 -> transformer en vecteur et créer un rnn pour \n",
    "#classifier les caractéristiques de l'image\n",
    "transform = transforms.Compose([transforms.ToTensor(), transforms.Normalize((0.1307,), (0.3081,))])\n",
    "batch_size = 32\n",
    "train_loader = torch.utils.data.DataLoader(datasets.MNIST('../data', \n",
    "                                           train = True, download=True, transform=transform), batch_size= batch_size)\n"
   ]
  },
  {
   "cell_type": "code",
   "execution_count": 9,
   "id": "4328966e",
   "metadata": {},
   "outputs": [],
   "source": [
    "test_loader = torch.utils.data.DataLoader(datasets.MNIST('../data', \n",
    "                                           train = False, download=True, transform=transform), batch_size= batch_size)\n"
   ]
  },
  {
   "cell_type": "markdown",
   "id": "abe86489",
   "metadata": {},
   "source": [
    "### Initialisation des poids "
   ]
  },
  {
   "cell_type": "markdown",
   "id": "1c9e658b",
   "metadata": {},
   "source": [
    "10 classes en sortie 0 1 2 3 4 5 6 7 8 9\n",
    "10 colonnes pour chaque colonnes, il y a les poids associé à chaque pixels de l'image.\n",
    "784 lignes car 784 pixels\n",
    "On cherche à obtenir une distribution de probabilité. on utilise un softmax sur notre activation -> notre output finale"
   ]
  },
  {
   "cell_type": "code",
   "execution_count": 11,
   "id": "b8038adf",
   "metadata": {},
   "outputs": [
    {
     "name": "stdout",
     "output_type": "stream",
     "text": [
      "torch.Size([784, 10])\n"
     ]
    }
   ],
   "source": [
    "# les poids de notre réseau de neurones\n",
    "weights = torch.randn(784, 10, requires_grad=True)\n",
    "print(weights.shape)"
   ]
  },
  {
   "cell_type": "code",
   "execution_count": 25,
   "id": "b459f5f5",
   "metadata": {},
   "outputs": [
    {
     "name": "stdout",
     "output_type": "stream",
     "text": [
      "accuracy on test set 0.162\n"
     ]
    }
   ],
   "source": [
    "def test(weights, test_loader):\n",
    "    test_size = len(test_loader.dataset)\n",
    "    correct = 0 # précision sur notre donnée test\n",
    "    \n",
    "    for batch_idx, (data, target)in enumerate(test_loader):\n",
    "        #print(batch_idx, data.shape, target.shape)\n",
    "        data = data.view((-1,28*28))\n",
    "        #print(batch_idx, data.shape, target.shape)\n",
    "        outputs=torch.matmul(data, weights) # a(10)= i(1,784)*W(784*10)\n",
    "        #print(outputs.shape, outputs[0])\n",
    "        softmax = F.softmax(outputs, dim = 1)\n",
    "        pred = softmax.argmax(dim=1, keepdim=True)\n",
    "        n_correct = pred.eq(target.view_as(pred)).sum().item()\n",
    "        correct += n_correct\n",
    "        \n",
    "    acc = correct/test_size\n",
    "    print(\"accuracy on test set\", acc)\n",
    "    return\n",
    "test(weights, test_loader)"
   ]
  },
  {
   "cell_type": "code",
   "execution_count": null,
   "id": "128e5211",
   "metadata": {},
   "outputs": [],
   "source": []
  }
 ],
 "metadata": {
  "kernelspec": {
   "display_name": "Python 3 (ipykernel)",
   "language": "python",
   "name": "python3"
  },
  "language_info": {
   "codemirror_mode": {
    "name": "ipython",
    "version": 3
   },
   "file_extension": ".py",
   "mimetype": "text/x-python",
   "name": "python",
   "nbconvert_exporter": "python",
   "pygments_lexer": "ipython3",
   "version": "3.9.16"
  }
 },
 "nbformat": 4,
 "nbformat_minor": 5
}
